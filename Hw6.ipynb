{
  "nbformat": 4,
  "nbformat_minor": 0,
  "metadata": {
    "colab": {
      "provenance": [],
      "authorship_tag": "ABX9TyPs/mbpstAtYCL4Jf2lfWxr",
      "include_colab_link": true
    },
    "kernelspec": {
      "name": "python3",
      "display_name": "Python 3"
    },
    "language_info": {
      "name": "python"
    }
  },
  "cells": [
    {
      "cell_type": "markdown",
      "metadata": {
        "id": "view-in-github",
        "colab_type": "text"
      },
      "source": [
        "<a href=\"https://colab.research.google.com/github/LeadShadow/hw6_data_science/blob/main/Hw6.ipynb\" target=\"_parent\"><img src=\"https://colab.research.google.com/assets/colab-badge.svg\" alt=\"Open In Colab\"/></a>"
      ]
    },
    {
      "cell_type": "code",
      "execution_count": 3,
      "metadata": {
        "colab": {
          "base_uri": "https://localhost:8080/"
        },
        "id": "aHru25nB_A4m",
        "outputId": "af67d22b-6ab8-4dd6-a25a-da7df68997dd"
      },
      "outputs": [
        {
          "output_type": "stream",
          "name": "stdout",
          "text": [
            "Looking in indexes: https://pypi.org/simple, https://us-python.pkg.dev/colab-wheels/public/simple/\n",
            "Collecting pyspark\n",
            "  Downloading pyspark-3.3.2.tar.gz (281.4 MB)\n",
            "\u001b[2K     \u001b[90m━━━━━━━━━━━━━━━━━━━━━━━━━━━━━━━━━━━━━━━\u001b[0m \u001b[32m281.4/281.4 MB\u001b[0m \u001b[31m4.2 MB/s\u001b[0m eta \u001b[36m0:00:00\u001b[0m\n",
            "\u001b[?25h  Preparing metadata (setup.py) ... \u001b[?25l\u001b[?25hdone\n",
            "Collecting py4j==0.10.9.5\n",
            "  Downloading py4j-0.10.9.5-py2.py3-none-any.whl (199 kB)\n",
            "\u001b[2K     \u001b[90m━━━━━━━━━━━━━━━━━━━━━━━━━━━━━━━━━━━━━\u001b[0m \u001b[32m199.7/199.7 KB\u001b[0m \u001b[31m731.6 kB/s\u001b[0m eta \u001b[36m0:00:00\u001b[0m\n",
            "\u001b[?25hBuilding wheels for collected packages: pyspark\n",
            "  Building wheel for pyspark (setup.py) ... \u001b[?25l\u001b[?25hdone\n",
            "  Created wheel for pyspark: filename=pyspark-3.3.2-py2.py3-none-any.whl size=281824025 sha256=0acf74f954e8d1ac1ac7429abd3150afc4fd20246fe26eba941d722bbce528a5\n",
            "  Stored in directory: /root/.cache/pip/wheels/b1/59/a0/a1a0624b5e865fd389919c1a10f53aec9b12195d6747710baf\n",
            "Successfully built pyspark\n",
            "Installing collected packages: py4j, pyspark\n",
            "Successfully installed py4j-0.10.9.5 pyspark-3.3.2\n"
          ]
        }
      ],
      "source": [
        "pip install pyspark"
      ]
    },
    {
      "cell_type": "markdown",
      "source": [
        "# Завдання 1"
      ],
      "metadata": {
        "id": "hMEfB1kRHqX_"
      }
    },
    {
      "cell_type": "code",
      "source": [
        "import random\n",
        "from pyspark.sql.functions import udf\n",
        "from pyspark.sql import Row\n",
        "from pyspark.sql import SparkSession\n",
        "import seaborn as sns\n",
        "from pyspark.sql.functions import mean, stddev, round as _round"
      ],
      "metadata": {
        "id": "LKMw7IzH_GOq"
      },
      "execution_count": 4,
      "outputs": []
    },
    {
      "cell_type": "markdown",
      "source": [],
      "metadata": {
        "id": "aNDjkgbRHmb-"
      }
    },
    {
      "cell_type": "markdown",
      "source": [
        "1 Створити спарк сесію"
      ],
      "metadata": {
        "id": "R_o5ez59HuM1"
      }
    },
    {
      "cell_type": "code",
      "source": [
        "spark_session = SparkSession.builder.getOrCreate()"
      ],
      "metadata": {
        "id": "FapZTUSOGcF0"
      },
      "execution_count": 5,
      "outputs": []
    },
    {
      "cell_type": "markdown",
      "source": [
        "2 Прочитать датасет в датафрейм."
      ],
      "metadata": {
        "id": "vCNfjXflH0tX"
      }
    },
    {
      "cell_type": "code",
      "source": [
        "users_df = spark_session.read.csv('bestsellers with categories.csv', header=True)\n",
        "users_df.show()"
      ],
      "metadata": {
        "colab": {
          "base_uri": "https://localhost:8080/"
        },
        "id": "UPRwFjfpGiaQ",
        "outputId": "371ffe75-eb4e-4f22-966f-9c0fe8bd36d7"
      },
      "execution_count": 7,
      "outputs": [
        {
          "output_type": "stream",
          "name": "stdout",
          "text": [
            "+--------------------+--------------------+-----------+-------+-----+----+-----------+\n",
            "|                Name|              Author|User Rating|Reviews|Price|Year|      Genre|\n",
            "+--------------------+--------------------+-----------+-------+-----+----+-----------+\n",
            "|10-Day Green Smoo...|            JJ Smith|        4.7|  17350|    8|2016|Non Fiction|\n",
            "|   11/22/63: A Novel|        Stephen King|        4.6|   2052|   22|2011|    Fiction|\n",
            "|12 Rules for Life...|  Jordan B. Peterson|        4.7|  18979|   15|2018|Non Fiction|\n",
            "|1984 (Signet Clas...|       George Orwell|        4.7|  21424|    6|2017|    Fiction|\n",
            "|5,000 Awesome Fac...|National Geograph...|        4.8|   7665|   12|2019|Non Fiction|\n",
            "|A Dance with Drag...| George R. R. Martin|        4.4|  12643|   11|2011|    Fiction|\n",
            "|A Game of Thrones...| George R. R. Martin|        4.7|  19735|   30|2014|    Fiction|\n",
            "|A Gentleman in Mo...|         Amor Towles|        4.7|  19699|   15|2017|    Fiction|\n",
            "|A Higher Loyalty:...|         James Comey|        4.7|   5983|    3|2018|Non Fiction|\n",
            "|A Man Called Ove:...|     Fredrik Backman|        4.6|  23848|    8|2016|    Fiction|\n",
            "|A Man Called Ove:...|     Fredrik Backman|        4.6|  23848|    8|2017|    Fiction|\n",
            "|A Patriot's Histo...|    Larry Schweikart|        4.6|    460|    2|2010|Non Fiction|\n",
            "|A Stolen Life: A ...|       Jaycee Dugard|        4.6|   4149|   32|2011|Non Fiction|\n",
            "|A Wrinkle in Time...|   Madeleine L'Engle|        4.5|   5153|    5|2018|    Fiction|\n",
            "|Act Like a Lady, ...|        Steve Harvey|        4.6|   5013|   17|2009|Non Fiction|\n",
            "|Adult Coloring Bo...|Adult Coloring Bo...|        4.5|   2313|    4|2016|Non Fiction|\n",
            "|Adult Coloring Bo...|  Blue Star Coloring|        4.6|   2925|    6|2015|Non Fiction|\n",
            "|Adult Coloring Bo...|  Blue Star Coloring|        4.4|   2951|    6|2015|Non Fiction|\n",
            "|Adult Coloring Bo...|Coloring Books fo...|        4.5|   2426|    8|2015|Non Fiction|\n",
            "|  Alexander Hamilton|         Ron Chernow|        4.8|   9198|   13|2016|Non Fiction|\n",
            "+--------------------+--------------------+-----------+-------+-----+----+-----------+\n",
            "only showing top 20 rows\n",
            "\n"
          ]
        }
      ]
    },
    {
      "cell_type": "markdown",
      "source": [
        "3 Используя только RDD вычислить среднюю цену всех книг, у которых рейтинг выше 4.7"
      ],
      "metadata": {
        "id": "D0sbzukcIKa8"
      }
    },
    {
      "cell_type": "code",
      "source": [
        "users_df.filter(users_df['User Rating'] > 4.7).agg({'Price': 'mean'}).show()"
      ],
      "metadata": {
        "colab": {
          "base_uri": "https://localhost:8080/"
        },
        "id": "Lm0yNDf_HEwL",
        "outputId": "d88234e4-548d-4da4-e88c-b112425f205f"
      },
      "execution_count": 8,
      "outputs": [
        {
          "output_type": "stream",
          "name": "stdout",
          "text": [
            "+-----------------+\n",
            "|       avg(Price)|\n",
            "+-----------------+\n",
            "|10.69832402234637|\n",
            "+-----------------+\n",
            "\n"
          ]
        }
      ]
    },
    {
      "cell_type": "markdown",
      "source": [
        "4 Построить гистограмму распределения рецензий (столбец Reviews)."
      ],
      "metadata": {
        "id": "TwpC4KfUPH6V"
      }
    },
    {
      "cell_type": "code",
      "source": [
        "import matplotlib.pyplot as plt\n",
        "\n",
        "books_pd = users_df.toPandas()\n",
        "books_pd['Reviews'] = books_pd['Reviews'].astype(int)\n",
        "books_pd['Reviews'].plot(kind='hist', bins=20, figsize=(10, 10))\n",
        "plt.title('Кількість відгуків')\n",
        "plt.show()"
      ],
      "metadata": {
        "colab": {
          "base_uri": "https://localhost:8080/",
          "height": 607
        },
        "id": "6ZxoYp5iPHn1",
        "outputId": "b86de963-0dad-4813-e08c-f02f77562132"
      },
      "execution_count": 9,
      "outputs": [
        {
          "output_type": "display_data",
          "data": {
            "text/plain": [
              "<Figure size 720x720 with 1 Axes>"
            ],
            "image/png": "[encoded data removed]"
          },
          "metadata": {
            "needs_background": "light"
          }
        }
      ]
    },
    {
      "cell_type": "markdown",
      "source": [
        "5 Построить матрицу корреляции для столбцов \"User Rating\", \"Reviews\" и \"Price\"."
      ],
      "metadata": {
        "id": "YqM7FnmsqoQn"
      }
    },
    {
      "cell_type": "code",
      "source": [
        "books_pd['User Rating'] = books_pd['User Rating'].astype(float)\n",
        "books_pd['Price'] = books_pd['Price'].astype(int)\n",
        "cor = books_pd.loc[:, ['User Rating', 'Reviews', 'Price']].corr()\n",
        "cor"
      ],
      "metadata": {
        "colab": {
          "base_uri": "https://localhost:8080/",
          "height": 143
        },
        "id": "ZKN6g5R7XSq6",
        "outputId": "b6f2516a-1465-4038-e3be-e813d77634fd"
      },
      "execution_count": 10,
      "outputs": [
        {
          "output_type": "execute_result",
          "data": {
            "text/plain": [
              "             User Rating   Reviews     Price\n",
              "User Rating     1.000000 -0.001729 -0.133086\n",
              "Reviews        -0.001729  1.000000 -0.109182\n",
              "Price          -0.133086 -0.109182  1.000000"
            ],
            "text/html": [
              "\n",
              "  <div id=\"df-0ae5913b-8b9c-442f-90ea-166ebdcade0f\">\n",
              "    <div class=\"colab-df-container\">\n",
              "      <div>\n",
              "<style scoped>\n",
              "    .dataframe tbody tr th:only-of-type {\n",
              "        vertical-align: middle;\n",
              "    }\n",
              "\n",
              "    .dataframe tbody tr th {\n",
              "        vertical-align: top;\n",
              "    }\n",
              "\n",
              "    .dataframe thead th {\n",
              "        text-align: right;\n",
              "    }\n",
              "</style>\n",
              "<table border=\"1\" class=\"dataframe\">\n",
              "  <thead>\n",
              "    <tr style=\"text-align: right;\">\n",
              "      <th></th>\n",
              "      <th>User Rating</th>\n",
              "      <th>Reviews</th>\n",
              "      <th>Price</th>\n",
              "    </tr>\n",
              "  </thead>\n",
              "  <tbody>\n",
              "    <tr>\n",
              "      <th>User Rating</th>\n",
              "      <td>1.000000</td>\n",
              "      <td>-0.001729</td>\n",
              "      <td>-0.133086</td>\n",
              "    </tr>\n",
              "    <tr>\n",
              "      <th>Reviews</th>\n",
              "      <td>-0.001729</td>\n",
              "      <td>1.000000</td>\n",
              "      <td>-0.109182</td>\n",
              "    </tr>\n",
              "    <tr>\n",
              "      <th>Price</th>\n",
              "      <td>-0.133086</td>\n",
              "      <td>-0.109182</td>\n",
              "      <td>1.000000</td>\n",
              "    </tr>\n",
              "  </tbody>\n",
              "</table>\n",
              "</div>\n",
              "      <button class=\"colab-df-convert\" onclick=\"convertToInteractive('df-0ae5913b-8b9c-442f-90ea-166ebdcade0f')\"\n",
              "              title=\"Convert this dataframe to an interactive table.\"\n",
              "              style=\"display:none;\">\n",
              "        \n",
              "  <svg xmlns=\"http://www.w3.org/2000/svg\" height=\"24px\"viewBox=\"0 0 24 24\"\n",
              "       width=\"24px\">\n",
              "    <path d=\"M0 0h24v24H0V0z\" fill=\"none\"/>\n",
              "    <path d=\"M18.56 5.44l.94 2.06.94-2.06 2.06-.94-2.06-.94-.94-2.06-.94 2.06-2.06.94zm-11 1L8.5 8.5l.94-2.06 2.06-.94-2.06-.94L8.5 2.5l-.94 2.06-2.06.94zm10 10l.94 2.06.94-2.06 2.06-.94-2.06-.94-.94-2.06-.94 2.06-2.06.94z\"/><path d=\"M17.41 7.96l-1.37-1.37c-.4-.4-.92-.59-1.43-.59-.52 0-1.04.2-1.43.59L10.3 9.45l-7.72 7.72c-.78.78-.78 2.05 0 2.83L4 21.41c.39.39.9.59 1.41.59.51 0 1.02-.2 1.41-.59l7.78-7.78 2.81-2.81c.8-.78.8-2.07 0-2.86zM5.41 20L4 18.59l7.72-7.72 1.47 1.35L5.41 20z\"/>\n",
              "  </svg>\n",
              "      </button>\n",
              "      \n",
              "  <style>\n",
              "    .colab-df-container {\n",
              "      display:flex;\n",
              "      flex-wrap:wrap;\n",
              "      gap: 12px;\n",
              "    }\n",
              "\n",
              "    .colab-df-convert {\n",
              "      background-color: #E8F0FE;\n",
              "      border: none;\n",
              "      border-radius: 50%;\n",
              "      cursor: pointer;\n",
              "      display: none;\n",
              "      fill: #1967D2;\n",
              "      height: 32px;\n",
              "      padding: 0 0 0 0;\n",
              "      width: 32px;\n",
              "    }\n",
              "\n",
              "    .colab-df-convert:hover {\n",
              "      background-color: #E2EBFA;\n",
              "      box-shadow: 0px 1px 2px rgba(60, 64, 67, 0.3), 0px 1px 3px 1px rgba(60, 64, 67, 0.15);\n",
              "      fill: #174EA6;\n",
              "    }\n",
              "\n",
              "    [theme=dark] .colab-df-convert {\n",
              "      background-color: #3B4455;\n",
              "      fill: #D2E3FC;\n",
              "    }\n",
              "\n",
              "    [theme=dark] .colab-df-convert:hover {\n",
              "      background-color: #434B5C;\n",
              "      box-shadow: 0px 1px 3px 1px rgba(0, 0, 0, 0.15);\n",
              "      filter: drop-shadow(0px 1px 2px rgba(0, 0, 0, 0.3));\n",
              "      fill: #FFFFFF;\n",
              "    }\n",
              "  </style>\n",
              "\n",
              "      <script>\n",
              "        const buttonEl =\n",
              "          document.querySelector('#df-0ae5913b-8b9c-442f-90ea-166ebdcade0f button.colab-df-convert');\n",
              "        buttonEl.style.display =\n",
              "          google.colab.kernel.accessAllowed ? 'block' : 'none';\n",
              "\n",
              "        async function convertToInteractive(key) {\n",
              "          const element = document.querySelector('#df-0ae5913b-8b9c-442f-90ea-166ebdcade0f');\n",
              "          const dataTable =\n",
              "            await google.colab.kernel.invokeFunction('convertToInteractive',\n",
              "                                                     [key], {});\n",
              "          if (!dataTable) return;\n",
              "\n",
              "          const docLinkHtml = 'Like what you see? Visit the ' +\n",
              "            '<a target=\"_blank\" href=https://colab.research.google.com/notebooks/data_table.ipynb>data table notebook</a>'\n",
              "            + ' to learn more about interactive tables.';\n",
              "          element.innerHTML = '';\n",
              "          dataTable['output_type'] = 'display_data';\n",
              "          await google.colab.output.renderOutput(dataTable, element);\n",
              "          const docLink = document.createElement('div');\n",
              "          docLink.innerHTML = docLinkHtml;\n",
              "          element.appendChild(docLink);\n",
              "        }\n",
              "      </script>\n",
              "    </div>\n",
              "  </div>\n",
              "  "
            ]
          },
          "metadata": {},
          "execution_count": 10
        }
      ]
    },
    {
      "cell_type": "markdown",
      "source": [
        "6 Используя библиотеку seaborn построить парные графики (pairplots) столбцов \"User Rating\", \"Reviews\" и \"Price\"."
      ],
      "metadata": {
        "id": "PKXLv8Ojt16s"
      }
    },
    {
      "cell_type": "code",
      "source": [
        "sns.pairplot((books_pd.loc[:, ['User Rating', 'Reviews', 'Price']]))"
      ],
      "metadata": {
        "colab": {
          "base_uri": "https://localhost:8080/",
          "height": 567
        },
        "id": "6Bf9sT8vr8zM",
        "outputId": "d7f69273-5d0e-4d69-b4b7-6451134ac76d"
      },
      "execution_count": 11,
      "outputs": [
        {
          "output_type": "execute_result",
          "data": {
            "text/plain": [
              "<seaborn.axisgrid.PairGrid at 0x7f219eecc940>"
            ]
          },
          "metadata": {},
          "execution_count": 11
        },
        {
          "output_type": "display_data",
          "data": {
            "text/plain": [
              "<Figure size 540x540 with 12 Axes>"
            ],
            "image/png": "[encoded data removed]"
          },
          "metadata": {
            "needs_background": "light"
          }
        }
      ]
    },
    {
      "cell_type": "markdown",
      "source": [
        "# Завдання 2"
      ],
      "metadata": {
        "id": "DjNP4P_MvBEW"
      }
    },
    {
      "cell_type": "markdown",
      "source": [
        "1 Найдите автора с самым высоким рейтингом."
      ],
      "metadata": {
        "id": "5J9o32wfvFr1"
      }
    },
    {
      "cell_type": "code",
      "source": [
        "users_df.withColumnRenamed('User Rating', 'User_Rating').createOrReplaceTempView('Books')\n",
        "spark_session.sql('Select * From Books').show()"
      ],
      "metadata": {
        "colab": {
          "base_uri": "https://localhost:8080/"
        },
        "id": "DWc20CJqu-b-",
        "outputId": "47313a8a-51bb-49e9-c73c-912520712470"
      },
      "execution_count": 12,
      "outputs": [
        {
          "output_type": "stream",
          "name": "stdout",
          "text": [
            "+--------------------+--------------------+-----------+-------+-----+----+-----------+\n",
            "|                Name|              Author|User_Rating|Reviews|Price|Year|      Genre|\n",
            "+--------------------+--------------------+-----------+-------+-----+----+-----------+\n",
            "|10-Day Green Smoo...|            JJ Smith|        4.7|  17350|    8|2016|Non Fiction|\n",
            "|   11/22/63: A Novel|        Stephen King|        4.6|   2052|   22|2011|    Fiction|\n",
            "|12 Rules for Life...|  Jordan B. Peterson|        4.7|  18979|   15|2018|Non Fiction|\n",
            "|1984 (Signet Clas...|       George Orwell|        4.7|  21424|    6|2017|    Fiction|\n",
            "|5,000 Awesome Fac...|National Geograph...|        4.8|   7665|   12|2019|Non Fiction|\n",
            "|A Dance with Drag...| George R. R. Martin|        4.4|  12643|   11|2011|    Fiction|\n",
            "|A Game of Thrones...| George R. R. Martin|        4.7|  19735|   30|2014|    Fiction|\n",
            "|A Gentleman in Mo...|         Amor Towles|        4.7|  19699|   15|2017|    Fiction|\n",
            "|A Higher Loyalty:...|         James Comey|        4.7|   5983|    3|2018|Non Fiction|\n",
            "|A Man Called Ove:...|     Fredrik Backman|        4.6|  23848|    8|2016|    Fiction|\n",
            "|A Man Called Ove:...|     Fredrik Backman|        4.6|  23848|    8|2017|    Fiction|\n",
            "|A Patriot's Histo...|    Larry Schweikart|        4.6|    460|    2|2010|Non Fiction|\n",
            "|A Stolen Life: A ...|       Jaycee Dugard|        4.6|   4149|   32|2011|Non Fiction|\n",
            "|A Wrinkle in Time...|   Madeleine L'Engle|        4.5|   5153|    5|2018|    Fiction|\n",
            "|Act Like a Lady, ...|        Steve Harvey|        4.6|   5013|   17|2009|Non Fiction|\n",
            "|Adult Coloring Bo...|Adult Coloring Bo...|        4.5|   2313|    4|2016|Non Fiction|\n",
            "|Adult Coloring Bo...|  Blue Star Coloring|        4.6|   2925|    6|2015|Non Fiction|\n",
            "|Adult Coloring Bo...|  Blue Star Coloring|        4.4|   2951|    6|2015|Non Fiction|\n",
            "|Adult Coloring Bo...|Coloring Books fo...|        4.5|   2426|    8|2015|Non Fiction|\n",
            "|  Alexander Hamilton|         Ron Chernow|        4.8|   9198|   13|2016|Non Fiction|\n",
            "+--------------------+--------------------+-----------+-------+-----+----+-----------+\n",
            "only showing top 20 rows\n",
            "\n"
          ]
        }
      ]
    },
    {
      "cell_type": "code",
      "source": [
        "spark_session.sql('Select Author, avg(User_Rating) as avg_rat From Books Group By Author Order By avg_rat DESC Limit 1').show()"
      ],
      "metadata": {
        "colab": {
          "base_uri": "https://localhost:8080/"
        },
        "id": "ubouhWA6vXqq",
        "outputId": "bc397eba-ac89-482c-ea79-819323733d2c"
      },
      "execution_count": 13,
      "outputs": [
        {
          "output_type": "stream",
          "name": "stdout",
          "text": [
            "+----------+-------+\n",
            "|    Author|avg_rat|\n",
            "+----------+-------+\n",
            "|Jill Twiss|    4.9|\n",
            "+----------+-------+\n",
            "\n"
          ]
        }
      ]
    },
    {
      "cell_type": "markdown",
      "source": [
        "2 Найдите трех авторов с самым низким рейтингом."
      ],
      "metadata": {
        "id": "lRMv47YK-8Oh"
      }
    },
    {
      "cell_type": "code",
      "source": [
        "spark_session.sql('Select Author, avg(User_Rating) as avg_rat From Books Group By Author Order By avg_rat Limit 3').show()"
      ],
      "metadata": {
        "colab": {
          "base_uri": "https://localhost:8080/"
        },
        "id": "d6A0fMCd-fPX",
        "outputId": "3d75c524-bc0b-45ec-c854-565b402be50c"
      },
      "execution_count": 14,
      "outputs": [
        {
          "output_type": "stream",
          "name": "stdout",
          "text": [
            "+--------------+-------+\n",
            "|        Author|avg_rat|\n",
            "+--------------+-------+\n",
            "|   Donna Tartt|    3.9|\n",
            "| Gillian Flynn|    4.0|\n",
            "|Muriel Barbery|    4.0|\n",
            "+--------------+-------+\n",
            "\n"
          ]
        }
      ]
    },
    {
      "cell_type": "markdown",
      "source": [
        "3 Определите какой автор получил наибольшее количество рецензий."
      ],
      "metadata": {
        "id": "Z63N0w2a_C34"
      }
    },
    {
      "cell_type": "code",
      "source": [
        "spark_session.sql('Select Author, sum(Reviews) as rev From Books Group By Author Order By rev DESC Limit 1').show()"
      ],
      "metadata": {
        "colab": {
          "base_uri": "https://localhost:8080/"
        },
        "id": "8k4HGV6a_Blb",
        "outputId": "992f1a42-4ffa-4183-fb66-73c2a0f61fa8"
      },
      "execution_count": 15,
      "outputs": [
        {
          "output_type": "stream",
          "name": "stdout",
          "text": [
            "+---------------+--------+\n",
            "|         Author|     rev|\n",
            "+---------------+--------+\n",
            "|Suzanne Collins|278329.0|\n",
            "+---------------+--------+\n",
            "\n"
          ]
        }
      ]
    },
    {
      "cell_type": "markdown",
      "source": [
        "4 Определите какой автор написал наибольшее количество книг за весь доступный в данных период."
      ],
      "metadata": {
        "id": "RK4GaBdz_ibS"
      }
    },
    {
      "cell_type": "code",
      "source": [
        "spark_session.sql('Select Author, count(Author) as books From Books Group By Author Order By books desc Limit 1').show()"
      ],
      "metadata": {
        "id": "C6nMF-W7_cz1",
        "colab": {
          "base_uri": "https://localhost:8080/"
        },
        "outputId": "5d11f07b-8d3b-4060-e9e2-a04c33132e05"
      },
      "execution_count": 16,
      "outputs": [
        {
          "output_type": "stream",
          "name": "stdout",
          "text": [
            "+-----------+-----+\n",
            "|     Author|books|\n",
            "+-----------+-----+\n",
            "|Jeff Kinney|   12|\n",
            "+-----------+-----+\n",
            "\n"
          ]
        }
      ]
    },
    {
      "cell_type": "markdown",
      "source": [
        "5 Визначте, яка книга жанру \"Fiction\" має найменший рейтинг."
      ],
      "metadata": {
        "id": "S5F6X8A-_ZJh"
      }
    },
    {
      "cell_type": "code",
      "source": [
        "spark_session.sql('Select Name, User_Rating From Books Where Genre = \"Fiction\" Order By User_Rating Limit 1').show()"
      ],
      "metadata": {
        "id": "4qHMxkQVJTJo",
        "colab": {
          "base_uri": "https://localhost:8080/"
        },
        "outputId": "3d7f0f41-4ab2-4b39-a1a2-a22ed2d7363b"
      },
      "execution_count": 18,
      "outputs": [
        {
          "output_type": "stream",
          "name": "stdout",
          "text": [
            "+------------------+-----------+\n",
            "|              Name|User_Rating|\n",
            "+------------------+-----------+\n",
            "|The Casual Vacancy|        3.3|\n",
            "+------------------+-----------+\n",
            "\n"
          ]
        }
      ]
    },
    {
      "cell_type": "markdown",
      "source": [
        "6 Визначте, яка книга жанру \"Non Fiction\" має найвищий рейтинг."
      ],
      "metadata": {
        "id": "yquZtNIu_tjx"
      }
    },
    {
      "cell_type": "code",
      "source": [
        "spark_session.sql('Select Name, User_Rating From Books Where Genre = \"Non Fiction\" Order By User_Rating Limit 1').show()"
      ],
      "metadata": {
        "colab": {
          "base_uri": "https://localhost:8080/"
        },
        "id": "0AVEA_rV_qdI",
        "outputId": "5647e994-1b3a-41b5-9e2e-059e52e35900"
      },
      "execution_count": 20,
      "outputs": [
        {
          "output_type": "stream",
          "name": "stdout",
          "text": [
            "+-------------------+-----------+\n",
            "|               Name|User_Rating|\n",
            "+-------------------+-----------+\n",
            "|StrengthsFinder 2.0|          4|\n",
            "+-------------------+-----------+\n",
            "\n"
          ]
        }
      ]
    },
    {
      "cell_type": "markdown",
      "source": [
        "# Завдання 3\n"
      ],
      "metadata": {
        "id": "pqD_JCr8_8nK"
      }
    },
    {
      "cell_type": "markdown",
      "source": [
        "Побудуйте гістограму середньої кількості рецензій за роками. У вигляді окремої гістограми візуалізуйте кількість книг жанру \"Fiction\" та \"Non Fiction\" за весь доступний період."
      ],
      "metadata": {
        "id": "aK65fUGkAAiU"
      }
    },
    {
      "cell_type": "code",
      "source": [
        "books = users_df.groupBy('Year').agg({'Reviews': 'mean'}).orderBy('Year').toPandas()"
      ],
      "metadata": {
        "id": "eexyg1A9_z7t"
      },
      "execution_count": 21,
      "outputs": []
    },
    {
      "cell_type": "code",
      "source": [
        "books.plot(kind='bar', x='Year', y='avg(Reviews)', figsize=(15, 15), label='Average Reviews')\n",
        "plt.title('Розподіл переглядів по роках')\n",
        "plt.show()"
      ],
      "metadata": {
        "colab": {
          "base_uri": "https://localhost:8080/",
          "height": 909
        },
        "id": "sFOvL9XqAM17",
        "outputId": "0c656ff6-bacd-484f-fe07-1713e9785526"
      },
      "execution_count": 24,
      "outputs": [
        {
          "output_type": "display_data",
          "data": {
            "text/plain": [
              "<Figure size 1080x1080 with 1 Axes>"
            ],
            "image/png": "[encoded data removed]"
          },
          "metadata": {
            "needs_background": "light"
          }
        }
      ]
    }
  ]
}